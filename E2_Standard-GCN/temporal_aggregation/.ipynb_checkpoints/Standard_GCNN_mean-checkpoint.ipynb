{
 "cells": [
  {
   "cell_type": "code",
   "execution_count": null,
   "id": "d118f8ae",
   "metadata": {},
   "outputs": [],
   "source": [
    "import torch\n",
    "import torch.nn.functional as F\n",
    "import torch.nn as nn\n",
    "import numpy as np\n",
    "import pandas as pd\n",
    "import matplotlib.pyplot as plt\n",
    "\n",
    "# My libraries\n",
    "import sys\n",
    "sys.path.append('./')\n",
    "import utils"
   ]
  },
  {
   "cell_type": "markdown",
   "id": "6c0896ac",
   "metadata": {},
   "source": [
    "## General parameters"
   ]
  },
  {
   "cell_type": "code",
   "execution_count": null,
   "id": "688bde93",
   "metadata": {},
   "outputs": [],
   "source": [
    "numberOfTimeStep = 14\n",
    "folders = [\"s1\", \"s2\", \"s3\"]\n",
    "\n",
    "norm = \"normPower2\"\n",
    "\n",
    "device = torch.device('cuda:1')\n",
    "print(\"Seleccionando la segunda GPU:\", torch.cuda.get_device_name(device))"
   ]
  },
  {
   "cell_type": "markdown",
   "id": "96ea1b2f",
   "metadata": {},
   "source": [
    "## Train phase"
   ]
  },
  {
   "cell_type": "code",
   "execution_count": null,
   "id": "f4e7cc07-7a29-43f5-968e-f2b77bf0fac3",
   "metadata": {},
   "outputs": [],
   "source": [
    "# Always the same values, do not touch. \n",
    "in_dim_GCN = 1\n",
    "out_dim_GCN = 1\n",
    "typeGCN = \"standard_gcnn\"\n",
    "# number of max epochs \n",
    "n_epochs = 1000\n",
    "\n",
    "# Early stopping configuration\n",
    "early_stopping_patience = 20\n",
    "\n",
    "# Hyperparameters to be optimized (change this values)\n",
    "h_dropout = [0.15,0.3, 0.45]\n",
    "h_learning_rate = [1e-4, 1e-3, 1e-2, 5e-2]\n",
    "h_decay = [0, 1e-5, 1e-4, 1e-3, 1e-2, 1e-1]\n",
    "h_hid_lay = [4, 8, 16, 32]\n",
    "h_layers = [1, 2, 3]\n",
    "seed = [99, 335, 95, 163, 192]\n",
    "\n",
    "fc_layer = [[80, out_dim_GCN]]\n",
    "\n",
    "aggregation = 'mean'\n",
    "\n",
    "K = [0]\n",
    "\n",
    "params = {# Hyperparameters\n",
    "         'h_layers':h_layers, 'n_epochs':n_epochs, \n",
    "          'h_dropout': h_dropout, 'h_learning_rate': h_learning_rate, \n",
    "          'h_decay':h_decay, 'h_hid_lay': h_hid_lay, 'K':K,\n",
    "          'fc_layer': fc_layer,\n",
    "          # seed to set initialization hyperparameters\n",
    "          'seed': seed, \n",
    "          # Type of output GCN\n",
    "          'typeGCN': typeGCN,\n",
    "          # Dimensions of GCN (input/output)\n",
    "          'in_dim_GCN': in_dim_GCN, 'out_dim_GCN': out_dim_GCN,\n",
    "          # Patiente\n",
    "          'early_stopping_patience':early_stopping_patience,\n",
    "          'aggregation': aggregation}"
   ]
  },
  {
   "cell_type": "code",
   "execution_count": null,
   "id": "6cf7ac1d",
   "metadata": {},
   "outputs": [],
   "source": [
    "way_to_build_graph = \"dtw\"\n",
    "numberOfFeatures = 80"
   ]
  },
  {
   "cell_type": "code",
   "execution_count": null,
   "id": "044b041f",
   "metadata": {},
   "outputs": [],
   "source": [
    "import datetime\n",
    "\n",
    "best_result_by_split = {}\n",
    "train_embeddings_by_split = {}\n",
    "\n",
    "log_file = \"training_mean.txt\"\n",
    "\n",
    "for carp in range(len(folders)):\n",
    "    start_time = datetime.datetime.now().strftime(\"%Y-%m-%d %H:%M:%S\")\n",
    "    with open(log_file, \"a\") as log:\n",
    "        log.write(f\"Starting training for folder {folders[carp]} at {start_time}\\n\")\n",
    "        \n",
    "    print(f\"=========== SPLIT {folders[carp]} ==================\") \n",
    "    best_result_by_TS = {}  \n",
    "    S_list = []  # List of adjacency matrices\n",
    "    X_list = []  # List of training feature matrices\n",
    "    X_val_list = []  # List of validation feature matrices\n",
    "\n",
    "    y_test_list = [] # To be used in the final cell code to calculate performance metrics \n",
    "    \n",
    "    for t in range(numberOfTimeStep):\n",
    "        \n",
    "        torch.cuda.empty_cache()\n",
    "        \n",
    "        # Load graph node features & labels\n",
    "        X_train_vec, X_val_vec, X_test_vec, y_train, y_val, y_test = utils.load_data(\n",
    "            norm, device, folders[carp], numberOfTimeStep, t\n",
    "        )\n",
    "\n",
    "        # NOW WE HAVE A SINGLE S ENCOMPASSING THE 14 TIME STEPS\n",
    "        A = pd.read_csv(\"../dtw_matrices/\"+folders[carp]+\"/tr_AMR_\"+norm+\"_sparse.csv\")\n",
    "        A = torch.tensor(A.values, dtype=torch.float32)\n",
    "\n",
    "        # Store adjacency matrix and node features for MultiStepGNN\n",
    "        S_list.append(A)  \n",
    "        X_list.append(X_train_vec)  \n",
    "        X_val_list.append(X_val_vec) \n",
    "        y_test_list.append(y_test)\n",
    "\n",
    "    print(\"===========> TRAIN-VAL PHASE ==================\")\n",
    "    bestHyperparameters, embeddings = utils.train_val_phase(S_list, X_list, X_val_list, y_train, y_val, params, device)\n",
    "    print(\"<========== END TRAIN-VAL PHASE ===============\")\n",
    "    print(\"\\n\")\n",
    "    \n",
    "    best_result_by_split[folders[carp]] = bestHyperparameters\n",
    "    train_embeddings_by_split[folders[carp]] = embeddings\n",
    "\n",
    "utils.saveBestHyperparameters(best_result_by_split, \"./hyperparameters/S_GCNN_mean.json\")\n",
    "\n",
    "torch.cuda.empty_cache()"
   ]
  },
  {
   "cell_type": "markdown",
   "id": "f002292a",
   "metadata": {},
   "source": [
    "## Validation phase"
   ]
  },
  {
   "cell_type": "code",
   "execution_count": null,
   "id": "9bf449d2",
   "metadata": {},
   "outputs": [],
   "source": [
    "folders = [\"s1\", \"s2\", \"s3\"]\n",
    "\n",
    "best_result_by_split = utils.loadBestHyperparameters(\"./hyperparameters\"+\"/S_GCNN_mean.json\")\n",
    "\n",
    "typeOfGraph = \"ProdGraph\"\n",
    "T = 14\n",
    "\n",
    "embeddings_by_split = {} \n",
    "output_by_split = {}\n",
    "\n",
    "path_A = f\"\"\n",
    "\n",
    "results, output_final, gnn_models, embeddings_final = utils.val_model(\n",
    "    best_result_by_split, typeOfGraph, params, folders, norm, device, path_A, way_to_build_graph, T\n",
    ")\n",
    "\n",
    "print('COMPLETE')\n",
    "\n",
    "torch.cuda.empty_cache()"
   ]
  },
  {
   "cell_type": "code",
   "execution_count": null,
   "id": "815648ac",
   "metadata": {},
   "outputs": [],
   "source": [
    "df = pd.DataFrame(results)\n",
    "df"
   ]
  },
  {
   "cell_type": "code",
   "execution_count": null,
   "id": "2058f4a2",
   "metadata": {},
   "outputs": [],
   "source": [
    "means = df.mean()\n",
    "stds = df.std()\n",
    "\n",
    "for column in df.columns:\n",
    "    print(f\"{column}: {means[column]:.6f} ± {stds[column]:.6f}\")"
   ]
  }
 ],
 "metadata": {
  "kernelspec": {
   "display_name": "Python 3 (ipykernel)",
   "language": "python",
   "name": "python3"
  },
  "language_info": {
   "codemirror_mode": {
    "name": "ipython",
    "version": 3
   },
   "file_extension": ".py",
   "mimetype": "text/x-python",
   "name": "python",
   "nbconvert_exporter": "python",
   "pygments_lexer": "ipython3",
   "version": "3.11.4"
  }
 },
 "nbformat": 4,
 "nbformat_minor": 5
}
